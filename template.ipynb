{
 "cells": [
  {
   "cell_type": "markdown",
   "metadata": {},
   "source": [
    "# Improving Quality of Life Dataset\n",
    "\n",
    "Below are a few things to get you started with the challenge provided by NHS for AIHack!"
   ]
  },
  {
   "cell_type": "code",
   "execution_count": null,
   "metadata": {},
   "outputs": [],
   "source": [
    "# Download data - please only run this once\n",
    "import urllib.request\n",
    "import zipfile\n",
    "import os\n",
    "\n",
    "print(\"Starting download ...\")\n",
    "urls = [\n",
    "    \"https://files.digital.nhs.uk/FA/4D7547/stat-stop-smok-serv-eng-q4-1819-csv-v2.zip\",\n",
    "    \"https://files.digital.nhs.uk/72/CB2869/qof-1718-csv.zip\",\n",
    "    \"https://files.digital.nhs.uk/CF/0043C6/gp-reg-pat-prac-lsoa-male-female-jan-19.zip\",\n",
    "]\n",
    "os.makedirs(\"nhs_data\", exist_ok=True)\n",
    "for url in urls:\n",
    "    with urllib.request.urlopen(url) as src:\n",
    "        with open(\"tmp.zip\", \"wb\") as dest:\n",
    "            dest.write(src.read())\n",
    "    print(\"Unpacking archive ...\")\n",
    "    with zipfile.ZipFile(\"tmp.zip\") as f:\n",
    "        f.extractall(\"nhs_data\")\n",
    "print(\"Done!\")"
   ]
  },
  {
   "cell_type": "code",
   "execution_count": null,
   "metadata": {},
   "outputs": [],
   "source": [
    "# Run this ONLY IF YOU USE GOOGLE COLAB\n",
    "google_drive_dir = # YOUR DIRECTORY HERE\n",
    "\n",
    "try:\n",
    "    from google.colab import drive\n",
    "    drive.mount(\"/content/drive\")\n",
    "    directory = \"working_dir\"\n",
    "    if not os.path.exists(directory):\n",
    "      os.symlink(os.path.join(\"drive\", \"My Drive\", google_drive_dir), directory)\n",
    "except ModuleNotFoundError as err:\n",
    "    print(\"This only works on Google Colab. Skipping ...\")"
   ]
  },
  {
   "cell_type": "code",
   "execution_count": null,
   "metadata": {},
   "outputs": [],
   "source": [
    "%pip install pandas matplotlib"
   ]
  },
  {
   "cell_type": "code",
   "execution_count": null,
   "metadata": {},
   "outputs": [],
   "source": [
    "import pandas as pd\n",
    "from matplotlib import pyplot as plt"
   ]
  },
  {
   "cell_type": "code",
   "execution_count": null,
   "metadata": {},
   "outputs": [],
   "source": [
    "# Load the data (will take a short while)\n",
    "data = {}\n",
    "for file in os.listdir(\"nhs_data\"):\n",
    "    if file[-4:] != \".csv\":\n",
    "        continue\n",
    "    if file in [\"INDICATOR_MAPPINGS.csv\", \"CCG_EXCEPTIONS_EXCLUSIONS.csv\"]:\n",
    "        continue\n",
    "    print(\"Loading {} ...\".format(file))\n",
    "    data[file[:-4]] = pd.read_csv(\"nhs_data/{}\".format(file))\n",
    "print(\"Done!\")"
   ]
  },
  {
   "cell_type": "markdown",
   "metadata": {},
   "source": [
    "## Your Hack ..."
   ]
  },
  {
   "cell_type": "code",
   "execution_count": null,
   "metadata": {},
   "outputs": [],
   "source": [
    "data[\"QStatus_Eth_Sex-v2\"]"
   ]
  },
  {
   "cell_type": "code",
   "execution_count": null,
   "metadata": {},
   "outputs": [],
   "source": [
    "# todo: make something awesome ..."
   ]
  }
 ],
 "metadata": {
  "kernelspec": {
   "display_name": "Python 3",
   "language": "python",
   "name": "python3"
  },
  "language_info": {
   "codemirror_mode": {
    "name": "ipython",
    "version": 3
   },
   "file_extension": ".py",
   "mimetype": "text/x-python",
   "name": "python",
   "nbconvert_exporter": "python",
   "pygments_lexer": "ipython3",
   "version": "3.7.6"
  }
 },
 "nbformat": 4,
 "nbformat_minor": 4
}
